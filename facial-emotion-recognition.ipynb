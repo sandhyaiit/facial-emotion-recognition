{
 "cells": [
  {
   "cell_type": "code",
   "execution_count": 1,
   "metadata": {
    "_cell_guid": "b1076dfc-b9ad-4769-8c92-a6c4dae69d19",
    "_uuid": "8f2839f25d086af736a60e9eeb907d3b93b6e0e5"
   },
   "outputs": [
    {
     "name": "stderr",
     "output_type": "stream",
     "text": [
      "Using TensorFlow backend.\n"
     ]
    },
    {
     "name": "stdout",
     "output_type": "stream",
     "text": [
      "['fer2013for-recognition', 'facial-expression']\n"
     ]
    }
   ],
   "source": [
    "import numpy as np \n",
    "import pandas as pd\n",
    "\n",
    "import matplotlib.pyplot as plt\n",
    "\n",
    "import keras \n",
    "from keras.models import Sequential\n",
    "from keras.layers import Conv2D, BatchNormalization, GlobalAveragePooling2D, MaxPooling2D, Dropout, Flatten, Dense\n",
    "from keras.callbacks import ModelCheckpoint, EarlyStopping, ReduceLROnPlateau\n",
    "from keras.utils import np_utils\n",
    "import keras.backend as k\n",
    "from keras.preprocessing import image\n",
    "from keras.preprocessing.image import ImageDataGenerator\n",
    "from keras.optimizers import Adam\n",
    "from keras.regularizers import l2\n",
    "\n",
    "import os\n",
    "print(os.listdir(\"../input\"))"
   ]
  },
  {
   "cell_type": "code",
   "execution_count": 2,
   "metadata": {},
   "outputs": [],
   "source": [
    "filename = '../input/facial-expression/fer2013/fer2013.csv'\n",
    "\n",
    "def read_data(filename):\n",
    "    \n",
    "    X = []\n",
    "    Y = []\n",
    "    first = True\n",
    "    for line in open(filename):\n",
    "        if first:\n",
    "            first = False\n",
    "        else:\n",
    "            row = line.split(',')\n",
    "            Y.append(int(row[0]))\n",
    "            X.append([int(p) for p in row[1].split()])\n",
    "        \n",
    "    X, Y = np.array(X) / 255.0, np.array(Y)\n",
    "    return X, Y"
   ]
  },
  {
   "cell_type": "code",
   "execution_count": 3,
   "metadata": {},
   "outputs": [
    {
     "name": "stdout",
     "output_type": "stream",
     "text": [
      "7\n"
     ]
    }
   ],
   "source": [
    "X, Y = read_data(filename)\n",
    "num_class = len(set(Y))\n",
    "print(num_class)"
   ]
  },
  {
   "cell_type": "code",
   "execution_count": 4,
   "metadata": {},
   "outputs": [],
   "source": [
    "N, D = X.shape\n",
    "X = X.reshape(N, 48, 48, 1)"
   ]
  },
  {
   "cell_type": "code",
   "execution_count": 5,
   "metadata": {},
   "outputs": [],
   "source": [
    "from sklearn.model_selection import train_test_split\n",
    "\n",
    "x_train, x_test, y_train, y_test = train_test_split(X, Y, test_size=0.2, random_state=101)\n",
    "y_train = np_utils.to_categorical(y_train, 7)\n",
    "y_test = np_utils.to_categorical(y_test, 7)"
   ]
  },
  {
   "cell_type": "code",
   "execution_count": 6,
   "metadata": {},
   "outputs": [],
   "source": [
    "num_features = 64\n",
    "width, height = 48, 48\n",
    "model = Sequential()\n",
    "\n",
    "model.add(Conv2D(num_features, kernel_size=(3, 3), activation='relu', input_shape=(width, height, 1), data_format='channels_last', kernel_regularizer=l2(0.01)))\n",
    "model.add(Conv2D(num_features, kernel_size=(3, 3), activation='relu', padding='same'))\n",
    "model.add(BatchNormalization())\n",
    "model.add(MaxPooling2D(pool_size=(2, 2), strides=(2, 2)))\n",
    "model.add(Dropout(0.5))\n",
    "\n",
    "model.add(Conv2D(2*num_features, kernel_size=(3, 3), activation='relu', padding='same'))\n",
    "model.add(BatchNormalization())\n",
    "model.add(Conv2D(2*num_features, kernel_size=(3, 3), activation='relu', padding='same'))\n",
    "model.add(BatchNormalization())\n",
    "model.add(MaxPooling2D(pool_size=(2, 2), strides=(2, 2)))\n",
    "model.add(Dropout(0.5))\n",
    "\n",
    "model.add(Conv2D(2*2*num_features, kernel_size=(3, 3), activation='relu', padding='same'))\n",
    "model.add(BatchNormalization())\n",
    "model.add(Conv2D(2*2*num_features, kernel_size=(3, 3), activation='relu', padding='same'))\n",
    "model.add(BatchNormalization())\n",
    "model.add(MaxPooling2D(pool_size=(2, 2), strides=(2, 2)))\n",
    "model.add(Dropout(0.5))\n",
    "\n",
    "model.add(Conv2D(2*2*2*num_features, kernel_size=(3, 3), activation='relu', padding='same'))\n",
    "model.add(BatchNormalization())\n",
    "model.add(Conv2D(2*2*2*num_features, kernel_size=(3, 3), activation='relu', padding='same'))\n",
    "model.add(BatchNormalization())\n",
    "model.add(MaxPooling2D(pool_size=(2, 2), strides=(2, 2)))\n",
    "model.add(Dropout(0.5))\n",
    "\n",
    "model.add(Flatten())\n",
    "\n",
    "model.add(Dense(2*2*2*num_features, activation='relu'))\n",
    "model.add(Dropout(0.4))\n",
    "model.add(Dense(2*2*num_features, activation='relu'))\n",
    "model.add(Dropout(0.4))\n",
    "model.add(Dense(2*num_features, activation='relu'))\n",
    "model.add(Dropout(0.5))\n",
    "\n",
    "model.add(Dense(num_class, activation='softmax'))"
   ]
  },
  {
   "cell_type": "code",
   "execution_count": 7,
   "metadata": {},
   "outputs": [
    {
     "name": "stdout",
     "output_type": "stream",
     "text": [
      "_________________________________________________________________\n",
      "Layer (type)                 Output Shape              Param #   \n",
      "=================================================================\n",
      "conv2d_1 (Conv2D)            (None, 46, 46, 64)        640       \n",
      "_________________________________________________________________\n",
      "conv2d_2 (Conv2D)            (None, 46, 46, 64)        36928     \n",
      "_________________________________________________________________\n",
      "batch_normalization_1 (Batch (None, 46, 46, 64)        256       \n",
      "_________________________________________________________________\n",
      "max_pooling2d_1 (MaxPooling2 (None, 23, 23, 64)        0         \n",
      "_________________________________________________________________\n",
      "dropout_1 (Dropout)          (None, 23, 23, 64)        0         \n",
      "_________________________________________________________________\n",
      "conv2d_3 (Conv2D)            (None, 23, 23, 128)       73856     \n",
      "_________________________________________________________________\n",
      "batch_normalization_2 (Batch (None, 23, 23, 128)       512       \n",
      "_________________________________________________________________\n",
      "conv2d_4 (Conv2D)            (None, 23, 23, 128)       147584    \n",
      "_________________________________________________________________\n",
      "batch_normalization_3 (Batch (None, 23, 23, 128)       512       \n",
      "_________________________________________________________________\n",
      "max_pooling2d_2 (MaxPooling2 (None, 11, 11, 128)       0         \n",
      "_________________________________________________________________\n",
      "dropout_2 (Dropout)          (None, 11, 11, 128)       0         \n",
      "_________________________________________________________________\n",
      "conv2d_5 (Conv2D)            (None, 11, 11, 256)       295168    \n",
      "_________________________________________________________________\n",
      "batch_normalization_4 (Batch (None, 11, 11, 256)       1024      \n",
      "_________________________________________________________________\n",
      "conv2d_6 (Conv2D)            (None, 11, 11, 256)       590080    \n",
      "_________________________________________________________________\n",
      "batch_normalization_5 (Batch (None, 11, 11, 256)       1024      \n",
      "_________________________________________________________________\n",
      "max_pooling2d_3 (MaxPooling2 (None, 5, 5, 256)         0         \n",
      "_________________________________________________________________\n",
      "dropout_3 (Dropout)          (None, 5, 5, 256)         0         \n",
      "_________________________________________________________________\n",
      "conv2d_7 (Conv2D)            (None, 5, 5, 512)         1180160   \n",
      "_________________________________________________________________\n",
      "batch_normalization_6 (Batch (None, 5, 5, 512)         2048      \n",
      "_________________________________________________________________\n",
      "conv2d_8 (Conv2D)            (None, 5, 5, 512)         2359808   \n",
      "_________________________________________________________________\n",
      "batch_normalization_7 (Batch (None, 5, 5, 512)         2048      \n",
      "_________________________________________________________________\n",
      "max_pooling2d_4 (MaxPooling2 (None, 2, 2, 512)         0         \n",
      "_________________________________________________________________\n",
      "dropout_4 (Dropout)          (None, 2, 2, 512)         0         \n",
      "_________________________________________________________________\n",
      "flatten_1 (Flatten)          (None, 2048)              0         \n",
      "_________________________________________________________________\n",
      "dense_1 (Dense)              (None, 512)               1049088   \n",
      "_________________________________________________________________\n",
      "dropout_5 (Dropout)          (None, 512)               0         \n",
      "_________________________________________________________________\n",
      "dense_2 (Dense)              (None, 256)               131328    \n",
      "_________________________________________________________________\n",
      "dropout_6 (Dropout)          (None, 256)               0         \n",
      "_________________________________________________________________\n",
      "dense_3 (Dense)              (None, 128)               32896     \n",
      "_________________________________________________________________\n",
      "dropout_7 (Dropout)          (None, 128)               0         \n",
      "_________________________________________________________________\n",
      "dense_4 (Dense)              (None, 7)                 903       \n",
      "=================================================================\n",
      "Total params: 5,905,863\n",
      "Trainable params: 5,902,151\n",
      "Non-trainable params: 3,712\n",
      "_________________________________________________________________\n"
     ]
    }
   ],
   "source": [
    "model.summary()"
   ]
  },
  {
   "cell_type": "code",
   "execution_count": 8,
   "metadata": {},
   "outputs": [],
   "source": [
    "model.compile(loss='categorical_crossentropy',\n",
    "              optimizer=Adam(lr=0.001, beta_1=0.9, beta_2=0.999, epsilon=1e-7),\n",
    "              metrics=['accuracy'])\n",
    "\n",
    "lr_reducer = ReduceLROnPlateau(monitor='val_loss', factor=0.9, patience=3, verbose=1)\n",
    "early_stopper = EarlyStopping(monitor='val_loss', min_delta=0, patience=8, verbose=1, mode='auto')\n",
    "checkpointer = ModelCheckpoint('../input/model.h5', monitor='val_loss', verbose=1, save_best_only=True)\n",
    "\n",
    "callbacks = [lr_reducer, early_stopper, checkpointer]"
   ]
  },
  {
   "cell_type": "code",
   "execution_count": 9,
   "metadata": {},
   "outputs": [
    {
     "name": "stdout",
     "output_type": "stream",
     "text": [
      "Epoch 1/100\n",
      "448/448 [==============================] - 21s 47ms/step - loss: 2.0083 - acc: 0.2118 - val_loss: 1.8324 - val_acc: 0.2506\n",
      "\n",
      "Epoch 00001: val_loss improved from inf to 1.83238, saving model to ../input/model.h5\n",
      "Epoch 2/100\n",
      "448/448 [==============================] - 17s 37ms/step - loss: 1.8326 - acc: 0.2441 - val_loss: 1.8107 - val_acc: 0.2523\n",
      "\n",
      "Epoch 00002: val_loss improved from 1.83238 to 1.81070, saving model to ../input/model.h5\n",
      "Epoch 3/100\n",
      "448/448 [==============================] - 17s 37ms/step - loss: 1.8158 - acc: 0.2497 - val_loss: 1.8262 - val_acc: 0.2523\n",
      "\n",
      "Epoch 00003: val_loss did not improve from 1.81070\n",
      "Epoch 4/100\n",
      "448/448 [==============================] - 16s 37ms/step - loss: 1.8013 - acc: 0.2551 - val_loss: 1.8383 - val_acc: 0.2524\n",
      "\n",
      "Epoch 00004: val_loss did not improve from 1.81070\n",
      "Epoch 5/100\n",
      "448/448 [==============================] - 17s 37ms/step - loss: 1.7678 - acc: 0.2757 - val_loss: 1.7078 - val_acc: 0.2972\n",
      "\n",
      "Epoch 00005: val_loss improved from 1.81070 to 1.70777, saving model to ../input/model.h5\n",
      "Epoch 6/100\n",
      "448/448 [==============================] - 17s 37ms/step - loss: 1.7028 - acc: 0.3142 - val_loss: 1.7162 - val_acc: 0.2895\n",
      "\n",
      "Epoch 00006: val_loss did not improve from 1.70777\n",
      "Epoch 7/100\n",
      "448/448 [==============================] - 16s 37ms/step - loss: 1.6145 - acc: 0.3582 - val_loss: 1.5620 - val_acc: 0.4039\n",
      "\n",
      "Epoch 00007: val_loss improved from 1.70777 to 1.56196, saving model to ../input/model.h5\n",
      "Epoch 8/100\n",
      "448/448 [==============================] - 16s 37ms/step - loss: 1.5556 - acc: 0.3882 - val_loss: 1.5843 - val_acc: 0.3894\n",
      "\n",
      "Epoch 00008: val_loss did not improve from 1.56196\n",
      "Epoch 9/100\n",
      "448/448 [==============================] - 16s 37ms/step - loss: 1.5111 - acc: 0.4035 - val_loss: 1.6641 - val_acc: 0.3479\n",
      "\n",
      "Epoch 00009: val_loss did not improve from 1.56196\n",
      "Epoch 10/100\n",
      "448/448 [==============================] - 16s 37ms/step - loss: 1.4890 - acc: 0.4232 - val_loss: 1.3843 - val_acc: 0.4529\n",
      "\n",
      "Epoch 00010: val_loss improved from 1.56196 to 1.38434, saving model to ../input/model.h5\n",
      "Epoch 11/100\n",
      "448/448 [==============================] - 16s 37ms/step - loss: 1.4632 - acc: 0.4342 - val_loss: 1.3387 - val_acc: 0.4902\n",
      "\n",
      "Epoch 00011: val_loss improved from 1.38434 to 1.33871, saving model to ../input/model.h5\n",
      "Epoch 12/100\n",
      "448/448 [==============================] - 16s 36ms/step - loss: 1.4368 - acc: 0.4516 - val_loss: 1.3324 - val_acc: 0.5043\n",
      "\n",
      "Epoch 00012: val_loss improved from 1.33871 to 1.33243, saving model to ../input/model.h5\n",
      "Epoch 13/100\n",
      "448/448 [==============================] - 16s 37ms/step - loss: 1.4052 - acc: 0.4653 - val_loss: 1.5404 - val_acc: 0.4363\n",
      "\n",
      "Epoch 00013: val_loss did not improve from 1.33243\n",
      "Epoch 14/100\n",
      "448/448 [==============================] - 17s 38ms/step - loss: 1.3895 - acc: 0.4734 - val_loss: 1.2613 - val_acc: 0.5194\n",
      "\n",
      "Epoch 00014: val_loss improved from 1.33243 to 1.26135, saving model to ../input/model.h5\n",
      "Epoch 15/100\n",
      "448/448 [==============================] - 16s 37ms/step - loss: 1.3606 - acc: 0.4882 - val_loss: 1.2670 - val_acc: 0.5192\n",
      "\n",
      "Epoch 00015: val_loss did not improve from 1.26135\n",
      "Epoch 16/100\n",
      "448/448 [==============================] - 16s 36ms/step - loss: 1.3455 - acc: 0.4975 - val_loss: 1.2388 - val_acc: 0.5347\n",
      "\n",
      "Epoch 00016: val_loss improved from 1.26135 to 1.23877, saving model to ../input/model.h5\n",
      "Epoch 17/100\n",
      "448/448 [==============================] - 16s 36ms/step - loss: 1.3319 - acc: 0.5032 - val_loss: 1.2965 - val_acc: 0.5242\n",
      "\n",
      "Epoch 00017: val_loss did not improve from 1.23877\n",
      "Epoch 18/100\n",
      "448/448 [==============================] - 16s 37ms/step - loss: 1.3312 - acc: 0.5064 - val_loss: 1.3998 - val_acc: 0.4607\n",
      "\n",
      "Epoch 00018: val_loss did not improve from 1.23877\n",
      "Epoch 19/100\n",
      "448/448 [==============================] - 16s 36ms/step - loss: 1.3023 - acc: 0.5169 - val_loss: 1.1630 - val_acc: 0.5614\n",
      "\n",
      "Epoch 00019: val_loss improved from 1.23877 to 1.16303, saving model to ../input/model.h5\n",
      "Epoch 20/100\n",
      "448/448 [==============================] - 16s 37ms/step - loss: 1.2956 - acc: 0.5222 - val_loss: 1.1778 - val_acc: 0.5581\n",
      "\n",
      "Epoch 00020: val_loss did not improve from 1.16303\n",
      "Epoch 21/100\n",
      "448/448 [==============================] - 16s 36ms/step - loss: 1.2776 - acc: 0.5303 - val_loss: 1.1631 - val_acc: 0.5666\n",
      "\n",
      "Epoch 00021: val_loss did not improve from 1.16303\n",
      "Epoch 22/100\n",
      "448/448 [==============================] - 16s 36ms/step - loss: 1.2695 - acc: 0.5361 - val_loss: 1.1955 - val_acc: 0.5538\n",
      "\n",
      "Epoch 00022: ReduceLROnPlateau reducing learning rate to 0.0009000000427477062.\n",
      "\n",
      "Epoch 00022: val_loss did not improve from 1.16303\n",
      "Epoch 23/100\n",
      "448/448 [==============================] - 16s 36ms/step - loss: 1.2637 - acc: 0.5353 - val_loss: 1.1959 - val_acc: 0.5670\n",
      "\n",
      "Epoch 00023: val_loss did not improve from 1.16303\n",
      "Epoch 24/100\n",
      "448/448 [==============================] - 16s 37ms/step - loss: 1.2434 - acc: 0.5425 - val_loss: 1.1378 - val_acc: 0.5816\n",
      "\n",
      "Epoch 00024: val_loss improved from 1.16303 to 1.13777, saving model to ../input/model.h5\n",
      "Epoch 25/100\n",
      "448/448 [==============================] - 17s 37ms/step - loss: 1.2288 - acc: 0.5513 - val_loss: 1.1580 - val_acc: 0.5691\n",
      "\n",
      "Epoch 00025: val_loss did not improve from 1.13777\n",
      "Epoch 26/100\n",
      "448/448 [==============================] - 16s 36ms/step - loss: 1.2278 - acc: 0.5537 - val_loss: 1.1395 - val_acc: 0.5637\n",
      "\n",
      "Epoch 00026: val_loss did not improve from 1.13777\n",
      "Epoch 27/100\n",
      " 59/448 [==>...........................] - ETA: 13s - loss: 1.1961 - acc: 0.5661"
     ]
    }
   ],
   "source": [
    "# With Augmentation\n",
    "bs = 64\n",
    "epochs = 100\n",
    "\n",
    "aug = ImageDataGenerator(rotation_range=20, \n",
    "                         width_shift_range=0.1, \n",
    "                         height_shift_range=0.1, \n",
    "                         horizontal_flip=True, \n",
    "                         fill_mode=\"nearest\")\n",
    "\n",
    "H = model.fit_generator(aug.flow(x_train, y_train, batch_size=bs),\n",
    "                        validation_data=(x_test, y_test), \n",
    "                        steps_per_epoch=len(x_train)//bs,\n",
    "                        callbacks=callbacks,\n",
    "                        shuffle=True,\n",
    "                        epochs=epochs)"
   ]
  },
  {
   "cell_type": "code",
   "execution_count": 10,
   "metadata": {},
   "outputs": [
    {
     "name": "stdout",
     "output_type": "stream",
     "text": [
      "7178/7178 [==============================] - 1s 174us/step\n",
      "Loss: 0.9379754525168954\n",
      "Accuracy: 0.6540819169851225\n"
     ]
    }
   ],
   "source": [
    "scores = model.evaluate(x_test, y_test, batch_size=bs)\n",
    "print(\"Loss: \" + str(scores[0]))\n",
    "print(\"Accuracy: \" + str(scores[1]))"
   ]
  },
  {
   "cell_type": "code",
   "execution_count": 12,
   "metadata": {},
   "outputs": [
    {
     "name": "stderr",
     "output_type": "stream",
     "text": [
      "/opt/conda/lib/python3.6/site-packages/keras_preprocessing/image/utils.py:104: UserWarning: grayscale is deprecated. Please use color_mode = \"grayscale\"\n",
      "  warnings.warn('grayscale is deprecated. Please use '\n"
     ]
    },
    {
     "data": {
      "image/png": "[encoded data removed]",
      "text/plain": [
       "<Figure size 432x288 with 1 Axes>"
      ]
     },
     "metadata": {},
     "output_type": "display_data"
    },
    {
     "name": "stdout",
     "output_type": "stream",
     "text": [
      "[0.06688503 0.00928699 0.25283882 0.06200942 0.09636712 0.3951489\n",
      " 0.11746369]\n"
     ]
    }
   ],
   "source": [
    "img = image.load_img('../input/fer2013for-recognition/index.jpeg', grayscale=True, target_size=(48, 48))\n",
    "x = image.img_to_array(img)\n",
    "x = np.expand_dims(x, axis=0)\n",
    "x /= 255\n",
    "custom = model.predict(x)\n",
    "\n",
    "x = np.array(x, 'float32')\n",
    "x = x.reshape([48, 48]);\n",
    "\n",
    "plt.gray()\n",
    "plt.imshow(x)\n",
    "plt.show()\n",
    "print(custom[0])"
   ]
  },
  {
   "cell_type": "code",
   "execution_count": 13,
   "metadata": {},
   "outputs": [
    {
     "name": "stdout",
     "output_type": "stream",
     "text": [
      "surprise\n"
     ]
    }
   ],
   "source": [
    "custom = custom[0]\n",
    "emotion = ['angry', 'disgust', 'fear', 'happy', 'sad', 'surprise', 'neutral']\n",
    "#Find the maximum probablity of a image and select that class\n",
    "lar = 0\n",
    "for i, ele in enumerate(custom):\n",
    "    if ele > lar:\n",
    "        msg = emotion[i]\n",
    "        lar = ele \n",
    "    else:\n",
    "         pass\n",
    "print(msg)"
   ]
  }
 ],
 "metadata": {
  "kernelspec": {
   "display_name": "Python 3",
   "language": "python",
   "name": "python3"
  },
  "language_info": {
   "codemirror_mode": {
    "name": "ipython",
    "version": 3
   },
   "file_extension": ".py",
   "mimetype": "text/x-python",
   "name": "python",
   "nbconvert_exporter": "python",
   "pygments_lexer": "ipython3",
   "version": "3.7.1"
  }
 },
 "nbformat": 4,
 "nbformat_minor": 1
}
